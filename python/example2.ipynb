{
 "cells": [
  {
   "cell_type": "code",
   "execution_count": 1,
   "metadata": {},
   "outputs": [],
   "source": [
    "import pycfet\n",
    "import math\n",
    "import numpy as np\n",
    "import matplotlib.pyplot as plt\n",
    "# import h5py\n",
    "\n",
    "p = pycfet.param_cMOSFET_new()\n",
    "p.radius = 6.25e-9\n",
    "p.Lg = 1e-6\n",
    "p.eps_semi = 11.6\n",
    "p.Rs = 0\n",
    "p.Rd = 0\n",
    "p.temp = 300\n",
    "p.ni = 1.45e16\n",
    "p.dphi = 0\n",
    "p.tox = 1.5e-9\n",
    "p.eps_ox = 3.9\n",
    "p.mue = 0.04\n",
    "p.Cox = p.eps_ox*8.85e-12/(p.radius*math.log(1+p.tox/p.radius))"
   ]
  },
  {
   "cell_type": "code",
   "execution_count": 9,
   "metadata": {},
   "outputs": [],
   "source": [
    "Vgs=0.5\n",
    "Vds=1\n",
    "QS=pycfet.Q_cMOSFET(Vgs,p)\n",
    "QD=pycfet.Q_cMOSFET(Vgs-Vds,p)\n",
    "# print(QS,QD)\n",
    "Q0 = (4*p.eps_semi*8.85e-12/p.radius)*(1.38e-23*p.temp/1.6e-19)\n",
    "Vth=(1.38e-23*p.temp/1.6e-19)"
   ]
  },
  {
   "cell_type": "code",
   "execution_count": 12,
   "metadata": {},
   "outputs": [
    {
     "name": "stdout",
     "output_type": "stream",
     "text": [
      "2 0.8664130847482953 0.7470834021608772\n",
      "0.0011510649540495926 0.0002493244343959406 -0.000495697828315524\n"
     ]
    }
   ],
   "source": [
    "print(2,QS/(p.Cox*Vth),Q0/(Q0+QS))\n",
    "print(2*QS,QS*QS/(2*p.Cox*Vth),Q0*math.log((QD+Q0)/(QS+Q0)))"
   ]
  },
  {
   "cell_type": "code",
   "execution_count": null,
   "metadata": {},
   "outputs": [],
   "source": []
  }
 ],
 "metadata": {
  "kernelspec": {
   "display_name": "Python 3",
   "language": "python",
   "name": "python3"
  },
  "language_info": {
   "codemirror_mode": {
    "name": "ipython",
    "version": 3
   },
   "file_extension": ".py",
   "mimetype": "text/x-python",
   "name": "python",
   "nbconvert_exporter": "python",
   "pygments_lexer": "ipython3",
   "version": "3.6.7"
  }
 },
 "nbformat": 4,
 "nbformat_minor": 2
}
